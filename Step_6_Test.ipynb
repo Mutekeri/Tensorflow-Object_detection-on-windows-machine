{
 "cells": [
  {
   "cell_type": "markdown",
   "metadata": {},
   "source": [
    "## Loading libraries"
   ]
  },
  {
   "cell_type": "code",
   "execution_count": 1,
   "metadata": {},
   "outputs": [],
   "source": [
    "import numpy as np\n",
    "import os\n",
    "import tensorflow as tf\n",
    "import cv2\n",
    "\n",
    "from utils import label_map_util\n",
    "from utils import visualization_utils as vis_util\n",
    "from distutils.version import StrictVersion"
   ]
  },
  {
   "cell_type": "markdown",
   "metadata": {},
   "source": [
    "## Module level variables"
   ]
  },
  {
   "cell_type": "code",
   "execution_count": 2,
   "metadata": {},
   "outputs": [],
   "source": [
    "TEST_IMAGE_DIR = os.getcwd() +  \"/test_images\"\n",
    "FROZEN_INFERENCE_GRAPH_LOC = os.getcwd() + \"/inference_graph/frozen_inference_graph.pb\"\n",
    "LABELS_LOC = os.getcwd() + \"/\" + \"label_map.pbtxt\"\n",
    "NUM_CLASSES = 1"
   ]
  },
  {
   "cell_type": "markdown",
   "metadata": {},
   "source": [
    "## Functions"
   ]
  },
  {
   "cell_type": "code",
   "execution_count": 3,
   "metadata": {},
   "outputs": [],
   "source": [
    "def main():\n",
    "    print(\"starting program . . .\")\n",
    "\n",
    "    if not checkIfNecessaryPathsAndFilesExist():\n",
    "        return\n",
    "    # end if\n",
    "\n",
    "    # this next comment line is necessary to avoid a false PyCharm warning\n",
    "    # noinspection PyUnresolvedReferences\n",
    "    if StrictVersion(tf.__version__) < StrictVersion('1.5.0'):\n",
    "        raise ImportError('Please upgrade your tensorflow installation to v1.5.* or later!')\n",
    "    # end if\n",
    "\n",
    "    # load a (frozen) TensorFlow model into memory\n",
    "    detection_graph = tf.Graph()\n",
    "    with detection_graph.as_default():\n",
    "        od_graph_def = tf.GraphDef()\n",
    "        with tf.gfile.GFile(FROZEN_INFERENCE_GRAPH_LOC, 'rb') as fid:\n",
    "            serialized_graph = fid.read()\n",
    "            od_graph_def.ParseFromString(serialized_graph)\n",
    "            tf.import_graph_def(od_graph_def, name='')\n",
    "        # end with\n",
    "    # end with\n",
    "\n",
    "    # Loading label map\n",
    "    # Label maps map indices to category names, so that when our convolution network predicts `5`, we know that this corresponds to `airplane`.  Here we use internal utility functions, but anything that returns a dictionary mapping integers to appropriate string labels would be fine\n",
    "    label_map = label_map_util.load_labelmap(LABELS_LOC)\n",
    "    categories = label_map_util.convert_label_map_to_categories(label_map, max_num_classes=NUM_CLASSES,\n",
    "                                                                use_display_name=True)\n",
    "    category_index = label_map_util.create_category_index(categories)\n",
    "\n",
    "    imageFilePaths = []\n",
    "    for imageFileName in os.listdir(TEST_IMAGE_DIR):\n",
    "        if imageFileName.endswith(\".jpg\"):\n",
    "            imageFilePaths.append(TEST_IMAGE_DIR + \"/\" + imageFileName)\n",
    "        # end if\n",
    "    # end for\n",
    "\n",
    "    with detection_graph.as_default():\n",
    "        with tf.Session(graph=detection_graph) as sess:\n",
    "            for image_path in imageFilePaths:\n",
    "\n",
    "                print(image_path)\n",
    "\n",
    "                image_np = cv2.imread(image_path)\n",
    "\n",
    "                if image_np is None:\n",
    "                    print(\"error reading file \" + image_path)\n",
    "                    continue\n",
    "                # end if\n",
    "\n",
    "                # Definite input and output Tensors for detection_graph\n",
    "                image_tensor = detection_graph.get_tensor_by_name('image_tensor:0')\n",
    "                # Each box represents a part of the image where a particular object was detected.\n",
    "                detection_boxes = detection_graph.get_tensor_by_name('detection_boxes:0')\n",
    "                # Each score represent how level of confidence for each of the objects.\n",
    "                # Score is shown on the result image, together with the class label.\n",
    "                detection_scores = detection_graph.get_tensor_by_name('detection_scores:0')\n",
    "                detection_classes = detection_graph.get_tensor_by_name('detection_classes:0')\n",
    "                num_detections = detection_graph.get_tensor_by_name('num_detections:0')\n",
    "\n",
    "                # Expand dimensions since the model expects images to have shape: [1, None, None, 3]\n",
    "                image_np_expanded = np.expand_dims(image_np, axis=0)\n",
    "                # Actual detection.\n",
    "                (boxes, scores, classes, num) = sess.run(\n",
    "                    [detection_boxes, detection_scores, detection_classes, num_detections],\n",
    "                    feed_dict={image_tensor: image_np_expanded})\n",
    "                # Visualization of the results of a detection.\n",
    "                vis_util.visualize_boxes_and_labels_on_image_array(image_np,\n",
    "                                                                   np.squeeze(boxes),\n",
    "                                                                   np.squeeze(classes).astype(np.int32),\n",
    "                                                                   np.squeeze(scores),\n",
    "                                                                   category_index,\n",
    "                                                                   use_normalized_coordinates=True,\n",
    "                                                                   line_thickness=8)\n",
    "                cv2.imshow(\"image_np\", image_np)\n",
    "                cv2.waitKey()\n",
    "            # end for\n",
    "        # end with\n",
    "    # end with\n",
    "# end main"
   ]
  },
  {
   "cell_type": "code",
   "execution_count": 4,
   "metadata": {},
   "outputs": [],
   "source": [
    "def checkIfNecessaryPathsAndFilesExist():\n",
    "    if not os.path.exists(TEST_IMAGE_DIR):\n",
    "        print('ERROR: TEST_IMAGE_DIR \"' + TEST_IMAGE_DIR + '\" does not seem to exist')\n",
    "        return False\n",
    "    # end if\n",
    "\n",
    "    # ToDo: check here that the test image directory contains at least one image\n",
    "\n",
    "    if not os.path.exists(FROZEN_INFERENCE_GRAPH_LOC):\n",
    "        print('ERROR: FROZEN_INFERENCE_GRAPH_LOC \"' + FROZEN_INFERENCE_GRAPH_LOC + '\" does not seem to exist')\n",
    "        print('was the inference graph exported successfully?')\n",
    "        return False\n",
    "    # end if\n",
    "\n",
    "    if not os.path.exists(LABELS_LOC):\n",
    "        print('ERROR: the label map file \"' + LABELS_LOC + '\" does not seem to exist')\n",
    "        return False\n",
    "    # end if\n",
    "\n",
    "    return True\n",
    "# end function"
   ]
  },
  {
   "cell_type": "code",
   "execution_count": 5,
   "metadata": {},
   "outputs": [
    {
     "name": "stdout",
     "output_type": "stream",
     "text": [
      "starting program . . .\n",
      "C:\\Users\\Michael\\NW University Object Detection\\Running folder/test_images/apple_77.jpg\n",
      "C:\\Users\\Michael\\NW University Object Detection\\Running folder/test_images/apple_78.jpg\n",
      "C:\\Users\\Michael\\NW University Object Detection\\Running folder/test_images/apple_79.jpg\n",
      "C:\\Users\\Michael\\NW University Object Detection\\Running folder/test_images/apple_80.jpg\n",
      "C:\\Users\\Michael\\NW University Object Detection\\Running folder/test_images/apple_81.jpg\n",
      "C:\\Users\\Michael\\NW University Object Detection\\Running folder/test_images/apple_82.jpg\n",
      "C:\\Users\\Michael\\NW University Object Detection\\Running folder/test_images/apple_83.jpg\n",
      "C:\\Users\\Michael\\NW University Object Detection\\Running folder/test_images/apple_84.jpg\n",
      "C:\\Users\\Michael\\NW University Object Detection\\Running folder/test_images/apple_85.jpg\n",
      "C:\\Users\\Michael\\NW University Object Detection\\Running folder/test_images/apple_86.jpg\n",
      "C:\\Users\\Michael\\NW University Object Detection\\Running folder/test_images/apple_87.jpg\n",
      "C:\\Users\\Michael\\NW University Object Detection\\Running folder/test_images/apple_88.jpg\n",
      "C:\\Users\\Michael\\NW University Object Detection\\Running folder/test_images/apple_89.jpg\n",
      "C:\\Users\\Michael\\NW University Object Detection\\Running folder/test_images/apple_90.jpg\n",
      "C:\\Users\\Michael\\NW University Object Detection\\Running folder/test_images/apple_91.jpg\n",
      "C:\\Users\\Michael\\NW University Object Detection\\Running folder/test_images/apple_92.jpg\n",
      "C:\\Users\\Michael\\NW University Object Detection\\Running folder/test_images/apple_93.jpg\n",
      "C:\\Users\\Michael\\NW University Object Detection\\Running folder/test_images/apple_94.jpg\n",
      "C:\\Users\\Michael\\NW University Object Detection\\Running folder/test_images/apple_95.jpg\n",
      "C:\\Users\\Michael\\NW University Object Detection\\Running folder/test_images/banana_77.jpg\n",
      "C:\\Users\\Michael\\NW University Object Detection\\Running folder/test_images/banana_78.jpg\n",
      "C:\\Users\\Michael\\NW University Object Detection\\Running folder/test_images/banana_79.jpg\n",
      "C:\\Users\\Michael\\NW University Object Detection\\Running folder/test_images/banana_80.jpg\n",
      "C:\\Users\\Michael\\NW University Object Detection\\Running folder/test_images/banana_81.jpg\n",
      "C:\\Users\\Michael\\NW University Object Detection\\Running folder/test_images/banana_82.jpg\n",
      "C:\\Users\\Michael\\NW University Object Detection\\Running folder/test_images/banana_83.jpg\n",
      "C:\\Users\\Michael\\NW University Object Detection\\Running folder/test_images/banana_84.jpg\n",
      "C:\\Users\\Michael\\NW University Object Detection\\Running folder/test_images/banana_85.jpg\n",
      "C:\\Users\\Michael\\NW University Object Detection\\Running folder/test_images/banana_86.jpg\n",
      "C:\\Users\\Michael\\NW University Object Detection\\Running folder/test_images/banana_87.jpg\n",
      "C:\\Users\\Michael\\NW University Object Detection\\Running folder/test_images/banana_88.jpg\n",
      "C:\\Users\\Michael\\NW University Object Detection\\Running folder/test_images/banana_89.jpg\n",
      "C:\\Users\\Michael\\NW University Object Detection\\Running folder/test_images/banana_90.jpg\n",
      "C:\\Users\\Michael\\NW University Object Detection\\Running folder/test_images/banana_91.jpg\n",
      "C:\\Users\\Michael\\NW University Object Detection\\Running folder/test_images/banana_92.jpg\n",
      "C:\\Users\\Michael\\NW University Object Detection\\Running folder/test_images/banana_93.jpg\n",
      "C:\\Users\\Michael\\NW University Object Detection\\Running folder/test_images/banana_94.jpg\n",
      "C:\\Users\\Michael\\NW University Object Detection\\Running folder/test_images/mixed_21.jpg\n",
      "C:\\Users\\Michael\\NW University Object Detection\\Running folder/test_images/mixed_22.jpg\n",
      "C:\\Users\\Michael\\NW University Object Detection\\Running folder/test_images/mixed_23.jpg\n",
      "C:\\Users\\Michael\\NW University Object Detection\\Running folder/test_images/mixed_24.jpg\n",
      "C:\\Users\\Michael\\NW University Object Detection\\Running folder/test_images/mixed_25.jpg\n",
      "C:\\Users\\Michael\\NW University Object Detection\\Running folder/test_images/orange_77.jpg\n",
      "C:\\Users\\Michael\\NW University Object Detection\\Running folder/test_images/orange_78.jpg\n",
      "C:\\Users\\Michael\\NW University Object Detection\\Running folder/test_images/orange_79.jpg\n",
      "C:\\Users\\Michael\\NW University Object Detection\\Running folder/test_images/orange_80.jpg\n",
      "C:\\Users\\Michael\\NW University Object Detection\\Running folder/test_images/orange_81.jpg\n",
      "C:\\Users\\Michael\\NW University Object Detection\\Running folder/test_images/orange_82.jpg\n",
      "C:\\Users\\Michael\\NW University Object Detection\\Running folder/test_images/orange_83.jpg\n",
      "C:\\Users\\Michael\\NW University Object Detection\\Running folder/test_images/orange_84.jpg\n",
      "C:\\Users\\Michael\\NW University Object Detection\\Running folder/test_images/orange_85.jpg\n",
      "C:\\Users\\Michael\\NW University Object Detection\\Running folder/test_images/orange_86.jpg\n",
      "C:\\Users\\Michael\\NW University Object Detection\\Running folder/test_images/orange_87.jpg\n",
      "C:\\Users\\Michael\\NW University Object Detection\\Running folder/test_images/orange_89.jpg\n",
      "C:\\Users\\Michael\\NW University Object Detection\\Running folder/test_images/orange_90.jpg\n",
      "C:\\Users\\Michael\\NW University Object Detection\\Running folder/test_images/orange_91.jpg\n",
      "C:\\Users\\Michael\\NW University Object Detection\\Running folder/test_images/orange_92.jpg\n",
      "C:\\Users\\Michael\\NW University Object Detection\\Running folder/test_images/orange_93.jpg\n",
      "C:\\Users\\Michael\\NW University Object Detection\\Running folder/test_images/orange_94.jpg\n",
      "C:\\Users\\Michael\\NW University Object Detection\\Running folder/test_images/orange_95.jpg\n"
     ]
    }
   ],
   "source": [
    "if __name__ == \"__main__\":\n",
    "    main()\n"
   ]
  },
  {
   "cell_type": "code",
   "execution_count": null,
   "metadata": {},
   "outputs": [],
   "source": [
    "## No labels, why"
   ]
  }
 ],
 "metadata": {
  "kernelspec": {
   "display_name": "Python 3",
   "language": "python",
   "name": "python3"
  },
  "language_info": {
   "codemirror_mode": {
    "name": "ipython",
    "version": 3
   },
   "file_extension": ".py",
   "mimetype": "text/x-python",
   "name": "python",
   "nbconvert_exporter": "python",
   "pygments_lexer": "ipython3",
   "version": "3.7.4"
  }
 },
 "nbformat": 4,
 "nbformat_minor": 2
}
