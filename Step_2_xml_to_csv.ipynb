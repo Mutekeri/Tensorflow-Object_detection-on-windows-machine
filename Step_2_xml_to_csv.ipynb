{
 "cells": [
  {
   "cell_type": "markdown",
   "metadata": {},
   "source": [
    "## Loading Libraries"
   ]
  },
  {
   "cell_type": "code",
   "execution_count": 1,
   "metadata": {},
   "outputs": [],
   "source": [
    "# Note: substantial portions of this code, expecially the actual XML to CSV conversion, are credit to Dat Tran\n",
    "# see his website here: https://towardsdatascience.com/how-to-train-your-own-object-detector-with-tensorflows-object-detector-api-bec72ecfe1d9\n",
    "# and his GitHub here: https://github.com/datitran/raccoon_dataset/blob/master/xml_to_csv.py\n",
    "\n",
    "import os\n",
    "import glob\n",
    "import pandas as pd\n",
    "import xml.etree.ElementTree as ET"
   ]
  },
  {
   "cell_type": "markdown",
   "metadata": {},
   "source": [
    "## Module level variables"
   ]
  },
  {
   "cell_type": "code",
   "execution_count": 2,
   "metadata": {},
   "outputs": [],
   "source": [
    "# train and test directories\n",
    "TRAINING_IMAGES_DIR = os.getcwd() + \"/training_images/\"\n",
    "TEST_IMAGES_DIR = os.getcwd() + \"/test_images/\"\n",
    "\n",
    "MIN_NUM_IMAGES_REQUIRED_FOR_TRAINING = 10\n",
    "MIN_NUM_IMAGES_SUGGESTED_FOR_TRAINING = 100\n",
    "\n",
    "MIN_NUM_IMAGES_REQUIRED_FOR_TESTING = 3\n",
    "\n",
    "# output .csv file names/locations\n",
    "TRAINING_DATA_DIR = os.getcwd() + \"/\" + \"training_data\"\n",
    "TRAIN_CSV_FILE_LOC = TRAINING_DATA_DIR + \"/\" + \"train_labels.csv\"\n",
    "EVAL_CSV_FILE_LOC = TRAINING_DATA_DIR + \"/\" + \"eval_labels.csv\""
   ]
  },
  {
   "cell_type": "markdown",
   "metadata": {},
   "source": [
    "## Functions"
   ]
  },
  {
   "cell_type": "code",
   "execution_count": 3,
   "metadata": {},
   "outputs": [],
   "source": [
    "def main():\n",
    "    if not checkIfNecessaryPathsAndFilesExist():\n",
    "        return\n",
    "    # end if\n",
    "\n",
    "    # if the training data directory does not exist, create it\n",
    "    try:\n",
    "        if not os.path.exists(TRAINING_DATA_DIR):\n",
    "            os.makedirs(TRAINING_DATA_DIR)\n",
    "        # end if\n",
    "    except Exception as e:\n",
    "        print(\"unable to create directory \" + TRAINING_DATA_DIR + \"error: \" + str(e))\n",
    "    # end try\n",
    "\n",
    "\n",
    "    # convert training xml data to a single .csv file\n",
    "    print(\"converting xml training data . . .\")\n",
    "    trainCsvResults = xml_to_csv(TRAINING_IMAGES_DIR)\n",
    "    trainCsvResults.to_csv(TRAIN_CSV_FILE_LOC, index=None)\n",
    "    print(\"training xml to .csv conversion successful, saved result to \" + TRAIN_CSV_FILE_LOC)\n",
    "\n",
    "    # convert test xml data to a single .csv file\n",
    "    print(\"converting xml test data . . .\")\n",
    "    testCsvResults = xml_to_csv(TEST_IMAGES_DIR)\n",
    "    testCsvResults.to_csv(EVAL_CSV_FILE_LOC, index=None)\n",
    "    print(\"test xml to .csv conversion successful, saved result to \" + EVAL_CSV_FILE_LOC)\n",
    "\n",
    "# end main"
   ]
  },
  {
   "cell_type": "code",
   "execution_count": 4,
   "metadata": {},
   "outputs": [],
   "source": [
    "def checkIfNecessaryPathsAndFilesExist():\n",
    "    if not os.path.exists(TRAINING_IMAGES_DIR):\n",
    "        print('')\n",
    "        print('ERROR: the training images directory \"' + TRAINING_IMAGES_DIR + '\" does not seem to exist')\n",
    "        print('Did you set up the training images?')\n",
    "        print('')\n",
    "        return False\n",
    "    # end if\n",
    "\n",
    "    # get a list of all the .jpg / .xml file pairs in the training images directory\n",
    "    trainingImagesWithAMatchingXmlFile = []\n",
    "    for fileName in os.listdir(TRAINING_IMAGES_DIR):\n",
    "        if fileName.endswith(\".jpg\"):\n",
    "            xmlFileName = os.path.splitext(fileName)[0] + \".xml\"\n",
    "            if os.path.exists(os.path.join(TRAINING_IMAGES_DIR, xmlFileName)):\n",
    "                trainingImagesWithAMatchingXmlFile.append(fileName)\n",
    "            # end if\n",
    "        # end if\n",
    "    # end for\n",
    "\n",
    "    # show an error and return false if there are no images in the training directory\n",
    "    if len(trainingImagesWithAMatchingXmlFile) <= 0:\n",
    "        print(\"ERROR: there don't seem to be any images and matching XML files in \" + TRAINING_IMAGES_DIR)\n",
    "        print(\"Did you set up the training images?\")\n",
    "        return False\n",
    "    # end if\n",
    "\n",
    "    # show an error and return false if there are not at least 10 images and 10 matching XML files in TRAINING_IMAGES_DIR\n",
    "    if len(trainingImagesWithAMatchingXmlFile) < MIN_NUM_IMAGES_REQUIRED_FOR_TRAINING:\n",
    "        print(\"ERROR: there are not at least \" + str(MIN_NUM_IMAGES_REQUIRED_FOR_TRAINING) + \" images and matching XML files in \" + TRAINING_IMAGES_DIR)\n",
    "        print(\"Did you set up the training images?\")\n",
    "        return False\n",
    "    # end if\n",
    "\n",
    "    # show a warning if there are not at least 100 images and 100 matching XML files in TEST_IMAGES_DIR\n",
    "    if len(trainingImagesWithAMatchingXmlFile) < MIN_NUM_IMAGES_SUGGESTED_FOR_TRAINING:\n",
    "        print(\"WARNING: there are not at least \" + str(MIN_NUM_IMAGES_SUGGESTED_FOR_TRAINING) + \" images and matching XML files in \" + TRAINING_IMAGES_DIR)\n",
    "        print(\"At least \" + str(MIN_NUM_IMAGES_SUGGESTED_FOR_TRAINING) + \" image / xml pairs are recommended for bare minimum acceptable results\")\n",
    "        # note we do not return false here b/c this is a warning, not an error\n",
    "    # end if\n",
    "\n",
    "    if not os.path.exists(TEST_IMAGES_DIR):\n",
    "        print('ERROR: TEST_IMAGES_DIR \"' + TEST_IMAGES_DIR + '\" does not seem to exist')\n",
    "        return False\n",
    "    # end if\n",
    "\n",
    "    # get a list of all the .jpg / .xml file pairs in the test images directory\n",
    "    testImagesWithAMatchingXmlFile = []\n",
    "    for fileName in os.listdir(TEST_IMAGES_DIR):\n",
    "        if fileName.endswith(\".jpg\"):\n",
    "            xmlFileName = os.path.splitext(fileName)[0] + \".xml\"\n",
    "            if os.path.exists(os.path.join(TEST_IMAGES_DIR, xmlFileName)):\n",
    "                testImagesWithAMatchingXmlFile.append(fileName)\n",
    "            # end if\n",
    "        # end if\n",
    "    # end for\n",
    "\n",
    "    # show an error and return false if there are not at least 3 images and 3 matching XML files in TEST_IMAGES_DIR\n",
    "    if len(testImagesWithAMatchingXmlFile) <= 3:\n",
    "        print(\"ERROR: there are not at least \" + str(MIN_NUM_IMAGES_REQUIRED_FOR_TESTING) + \" image / xml pairs in \" + TEST_IMAGES_DIR)\n",
    "        print(\"Did you separate out the test image / xml pairs from the training image / xml pairs?\")\n",
    "        return False\n",
    "    # end if\n",
    "\n",
    "    return True\n",
    "# end function"
   ]
  },
  {
   "cell_type": "code",
   "execution_count": 5,
   "metadata": {},
   "outputs": [],
   "source": [
    "def xml_to_csv(path):\n",
    "    xml_list = []\n",
    "    for xml_file in glob.glob(path + '/*.xml'):\n",
    "        tree = ET.parse(xml_file)\n",
    "        root = tree.getroot()\n",
    "        for member in root.findall('object'):\n",
    "            value = (root.find('filename').text, int(root.find('size')[0].text), int(root.find('size')[1].text), member[0].text,\n",
    "                     int(member[4][0].text), int(member[4][1].text), int(member[4][2].text), int(member[4][3].text))\n",
    "            xml_list.append(value)\n",
    "        # end for\n",
    "    # end for\n",
    "\n",
    "    column_name = ['filename', 'width', 'height', 'class', 'xmin', 'ymin', 'xmax', 'ymax']\n",
    "    xml_df = pd.DataFrame(xml_list, columns=column_name)\n",
    "    return xml_df\n",
    "# end function"
   ]
  },
  {
   "cell_type": "code",
   "execution_count": 6,
   "metadata": {},
   "outputs": [
    {
     "name": "stdout",
     "output_type": "stream",
     "text": [
      "converting xml training data . . .\n",
      "training xml to .csv conversion successful, saved result to C:\\Users\\Michael\\NW University Object Detection\\Running folder/training_data/train_labels.csv\n",
      "converting xml test data . . .\n",
      "test xml to .csv conversion successful, saved result to C:\\Users\\Michael\\NW University Object Detection\\Running folder/training_data/eval_labels.csv\n"
     ]
    }
   ],
   "source": [
    "if __name__ == \"__main__\":\n",
    "    main()"
   ]
  },
  {
   "cell_type": "code",
   "execution_count": null,
   "metadata": {},
   "outputs": [],
   "source": []
  }
 ],
 "metadata": {
  "kernelspec": {
   "display_name": "Python 3",
   "language": "python",
   "name": "python3"
  },
  "language_info": {
   "codemirror_mode": {
    "name": "ipython",
    "version": 3
   },
   "file_extension": ".py",
   "mimetype": "text/x-python",
   "name": "python",
   "nbconvert_exporter": "python",
   "pygments_lexer": "ipython3",
   "version": "3.7.4"
  }
 },
 "nbformat": 4,
 "nbformat_minor": 2
}
